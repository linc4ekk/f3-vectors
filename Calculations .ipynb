{
 "cells": [
  {
   "cell_type": "code",
   "execution_count": 2,
   "metadata": {
    "ExecuteTime": {
     "end_time": "2022-03-07T23:43:43.153194Z",
     "start_time": "2022-03-07T23:43:42.777023Z"
    }
   },
   "outputs": [],
   "source": [
    "import numpy as np\n",
    "import scipy\n",
    "import itertools\n",
    "from scipy.special import binom "
   ]
  },
  {
   "cell_type": "code",
   "execution_count": 12,
   "metadata": {
    "ExecuteTime": {
     "end_time": "2022-03-07T23:50:52.519128Z",
     "start_time": "2022-03-07T23:50:51.924487Z"
    }
   },
   "outputs": [
    {
     "name": "stdout",
     "output_type": "stream",
     "text": [
      "d= 0 k= 4 33533248.0\n",
      "n= 26 Optimal estimate= 33533248.0\n",
      "d= 0 k= 4 160466400.0\n",
      "n= 28 Optimal estimate= 160466400.0\n",
      "d= 0 k= 4 763416960.0\n",
      "n= 30 Optimal estimate= 763416960.0\n",
      "d= 0 k= 4 3611875794.0\n",
      "n= 32 Optimal estimate= 3611875794.0\n",
      "d= 0 k= 4 16998465330.0\n",
      "n= 34 Optimal estimate= 16998465330.0\n",
      "d= 0 k= 4 79596984810.0\n",
      "n= 36 Optimal estimate= 79596984810.0\n",
      "d= 0 k= 4 370929171900.0\n",
      "n= 38 Optimal estimate= 370929171900.0\n",
      "d= 0 k= 4 1720619599860.0\n",
      "n= 40 Optimal estimate= 1720619599860.0\n",
      "d= 0 k= 4 7946311290060.0\n",
      "n= 42 Optimal estimate= 7946311290060.0\n",
      "d= 0 k= 4 36544011634380.0\n",
      "n= 44 Optimal estimate= 36544011634380.0\n",
      "d= 0 k= 4 167384795292360.0\n",
      "n= 46 Optimal estimate= 167384795292360.0\n",
      "d= 0 k= 4 763731065056050.0\n",
      "n= 48 Optimal estimate= 763731065056050.0\n",
      "d= 0 k= 4 3471855198201936.0\n",
      "n= 50 Optimal estimate= 3471855198201936.0\n",
      "d= 0 k= 4 1.5727081370916888e+16\n",
      "n= 52 Optimal estimate= 1.5727081370916888e+16\n",
      "d= 0 k= 4 7.100117237544454e+16\n",
      "n= 54 Optimal estimate= 7.100117237544454e+16\n",
      "d= 0 k= 4 3.195038882039518e+17\n",
      "n= 56 Optimal estimate= 3.195038882039518e+17\n",
      "d= 0 k= 4 1.4333077069318543e+18\n",
      "n= 58 Optimal estimate= 1.4333077069318543e+18\n",
      "d= 0 k= 4 6.410795968029937e+18\n",
      "n= 60 Optimal estimate= 6.410795968029937e+18\n",
      "d= 0 k= 4 2.8592197992951407e+19\n",
      "n= 62 Optimal estimate= 2.8592197992951407e+19\n",
      "d= 0 k= 4 1.2717373298583513e+20\n",
      "n= 64 Optimal estimate= 1.2717373298583513e+20\n",
      "d= 0 k= 4 5.64170410781779e+20\n",
      "n= 66 Optimal estimate= 5.64170410781779e+20\n",
      "d= 0 k= 4 2.496505503660156e+21\n",
      "n= 68 Optimal estimate= 2.496505503660156e+21\n",
      "d= 0 k= 4 1.1020673574038753e+22\n",
      "n= 70 Optimal estimate= 1.1020673574038753e+22\n",
      "d= 0 k= 4 4.853768053672114e+22\n",
      "n= 72 Optimal estimate= 4.853768053672114e+22\n",
      "d= 0 k= 4 2.132971160790023e+23\n",
      "n= 74 Optimal estimate= 2.132971160790023e+23\n",
      "d= 0 k= 4 9.353278958130833e+23\n",
      "n= 76 Optimal estimate= 9.353278958130833e+23\n",
      "d= 0 k= 4 4.0930940319136993e+24\n",
      "n= 78 Optimal estimate= 4.0930940319136993e+24\n"
     ]
    }
   ],
   "source": [
    "max_number=0\n",
    "for m in range(13, 40):\n",
    "    for d in range(m + 1):\n",
    "        for k in range(4, 5):\n",
    "            number = sum(\n",
    "                binom(d, j) * (2**j) * sum(\n",
    "                    binom(2 * k + 1, k + 1 + i) *\n",
    "                    binom(2 * m - d - 2 * k - 1, m - k - 1 - j - i) * sum(\n",
    "                        binom(m - k - 1 - j - i, B) * sum(\n",
    "                            binom(k + 1 + i, z)\n",
    "                            for z in range((i - (j + 1) // 2 - B) // 2 + 1))\n",
    "                        for B in range(i - (j + 1) // 2 + 1))\n",
    "                    for i in range((j + 1) // 2, k + 1)) for j in range(k + 1))\n",
    "            if number > max_number:\n",
    "                print('d=', d, 'k=', k, number)\n",
    "                max_number = number\n",
    "    print('n=',2*m,'Optimal estimate=',max_number)"
   ]
  }
 ],
 "metadata": {
  "kernelspec": {
   "display_name": "Python 3",
   "language": "python",
   "name": "python3"
  },
  "language_info": {
   "codemirror_mode": {
    "name": "ipython",
    "version": 3
   },
   "file_extension": ".py",
   "mimetype": "text/x-python",
   "name": "python",
   "nbconvert_exporter": "python",
   "pygments_lexer": "ipython3",
   "version": "3.8.5"
  }
 },
 "nbformat": 4,
 "nbformat_minor": 4
}
